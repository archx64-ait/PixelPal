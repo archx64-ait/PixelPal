{
 "cells": [
  {
   "cell_type": "markdown",
   "id": "dcd6dbd2-5937-481e-b450-703c3dc993d3",
   "metadata": {},
   "source": [
    "# HCI PixelPal Experimental Study | Survey Data Post-Processing"
   ]
  },
  {
   "cell_type": "markdown",
   "id": "136e9b47-0e07-4f93-91ed-8db6dee926d0",
   "metadata": {},
   "source": [
    "PixelPal Study was a mixed design, therefore both wide format and long format are required for testing the proposed hypotheses.\n",
    "\n",
    "Please refer the PixelPal Project Report for more details, anyways, here are the 3 hypothesis under consideration:\n",
    "- **H1**: Higher user engagement and emotional disclosure will be seen in multimodal AI interactions with animated avatars than in text-only interactions.\n",
    "- **H2**: Users’ personality traits and technology comfort levels will determine the effectiveness with which interaction modalities and avatar types promote emotional disclosure and perceived empathy.\n",
    "- **H3**: Users will find greater improvement in mental well-being and social connectedness when interacting with a multimodal AI companion compared to traditional text-based systems"
   ]
  },
  {
   "cell_type": "markdown",
   "id": "e4d2e6ee-f3d3-4fba-a9db-826e66e75398",
   "metadata": {},
   "source": [
    "# Importing Libraries"
   ]
  },
  {
   "cell_type": "code",
   "execution_count": null,
   "id": "bddc5632-0b52-498b-aefe-e71e78a76620",
   "metadata": {},
   "outputs": [],
   "source": [
    "import pandas as pd\n",
    "import numpy as np"
   ]
  },
  {
   "cell_type": "markdown",
   "id": "621cd8ea-88ca-4d7d-9d46-b57c238025c3",
   "metadata": {},
   "source": [
    "# Converting Likert to Numeric"
   ]
  },
  {
   "cell_type": "code",
   "execution_count": null,
   "id": "13762e9e-46a3-47a6-9342-4155be0011af",
   "metadata": {},
   "outputs": [],
   "source": [
    "def convert_likert_to_numeric(value):\n",
    "    mapping = {\n",
    "        '0 - Not at all': 0,\n",
    "        '1 - Several Days': 1,\n",
    "        '2 - More than half the days': 2,\n",
    "        '3 - Nearly every day': 3\n",
    "    }\n",
    "    return mapping.get(str(value).strip(), 0)  # Default to 0 if not found"
   ]
  },
  {
   "cell_type": "markdown",
   "id": "57b98dd4-4b49-4fde-8373-4260152022f7",
   "metadata": {},
   "source": [
    "# PHQ 9 Calculation"
   ]
  },
  {
   "cell_type": "code",
   "execution_count": null,
   "id": "f09c59d9-b947-4a85-87f8-ae1723cdcdf6",
   "metadata": {},
   "outputs": [],
   "source": [
    "def calculate_phq9_score(row):\n",
    "    phq9_cols = [col for col in row.index if any(keyword in col for keyword in [\n",
    "        'Little interest',\n",
    "        'Feeling down',\n",
    "        'Trouble falling',\n",
    "        'Feeling tired',\n",
    "        'Poor appetite',\n",
    "        'Feeling bad about yourself',\n",
    "        'Trouble concentrating',\n",
    "        'Moving or speaking',\n",
    "        'Thoughts that you would'\n",
    "    ])][:9]  # Take only first 9 matches\n",
    "    return sum(convert_likert_to_numeric(row[col]) for col in phq9_cols)"
   ]
  },
  {
   "cell_type": "markdown",
   "id": "f16abc4a-6b01-452c-a850-80b5f65169cc",
   "metadata": {},
   "source": [
    "# GAD 7 Calculation"
   ]
  },
  {
   "cell_type": "code",
   "execution_count": null,
   "id": "5686cb10-3546-4ed4-a37c-864d19174da6",
   "metadata": {},
   "outputs": [],
   "source": [
    "def calculate_gad7_score(row):\n",
    "    gad7_cols = [col for col in row.index if any(keyword in col for keyword in [\n",
    "        'Feeling nervous',\n",
    "        'Not being able to stop',\n",
    "        'Worrying too much',\n",
    "        'Trouble relaxing',\n",
    "        'Being so restless',\n",
    "        'Becoming easily annoyed',\n",
    "        'Feeling afraid'\n",
    "    ])][:7]  # Take only first 7 matches\n",
    "    return sum(convert_likert_to_numeric(row[col]) for col in gad7_cols)"
   ]
  },
  {
   "cell_type": "markdown",
   "id": "e970342a-5e2b-4b71-8154-b0b9d897130e",
   "metadata": {},
   "source": [
    "# System Usability Score Calculation"
   ]
  },
  {
   "cell_type": "code",
   "execution_count": null,
   "id": "34ca3a78-881a-4641-ad25-53d3aa14dd1a",
   "metadata": {},
   "outputs": [],
   "source": [
    "def calculate_sus_score(row):\n",
    "    sus_cols = [col for col in row.index if col.startswith('I think') or \n",
    "                col.startswith('I found') or \n",
    "                col.startswith('I thought') or \n",
    "                col.startswith('I imagine') or \n",
    "                col.startswith('I felt')][:10]\n",
    "    \n",
    "    scores = []\n",
    "    for i, col in enumerate(sus_cols):\n",
    "        try:\n",
    "            value = float(row[col])\n",
    "            if i % 2 == 0:  # Positive items (1,3,5,7,9)\n",
    "                scores.append(value - 1)\n",
    "            else:  # Negative items (2,4,6,8,10)\n",
    "                scores.append(5 - value)\n",
    "        except (ValueError, TypeError):\n",
    "            continue\n",
    "    \n",
    "    return sum(scores) * 2.5 if scores else np.nan"
   ]
  },
  {
   "cell_type": "markdown",
   "id": "ea3ee132-ce2f-4f5c-bd2b-4e0f7b56ffdc",
   "metadata": {},
   "source": [
    "# Social Connectedness Score Calculation"
   ]
  },
  {
   "cell_type": "code",
   "execution_count": null,
   "id": "10acee71-e6cd-48a1-973c-e075497fa460",
   "metadata": {},
   "outputs": [],
   "source": [
    "def calculate_social_connectedness(row):\n",
    "    sc_cols = [col for col in row.index if col.startswith('I feel') or \n",
    "               col.startswith('I am') or \n",
    "               col.startswith('I see') or \n",
    "               col.startswith(\"I don't\")][:20]\n",
    "    \n",
    "    reverse_items = [3, 6, 7, 9, 11, 13, 15, 17, 18, 20]  # 1-based index\n",
    "    scores = []\n",
    "    \n",
    "    for i, col in enumerate(sc_cols, 1):\n",
    "        try:\n",
    "            value = float(row[col])\n",
    "            if i in reverse_items:\n",
    "                scores.append(7 - value)\n",
    "            else:\n",
    "                scores.append(value)\n",
    "        except (ValueError, TypeError):\n",
    "            continue\n",
    "    \n",
    "    return np.mean(scores) if scores else np.nan"
   ]
  },
  {
   "cell_type": "markdown",
   "id": "cb5269af-022a-4cd5-bb55-a0ba360e4a7f",
   "metadata": {},
   "source": [
    "# JASP Data Preparation"
   ]
  },
  {
   "cell_type": "code",
   "execution_count": null,
   "id": "3e748c2f-0b77-451e-9338-4648136070d0",
   "metadata": {},
   "outputs": [],
   "source": [
    "def prepare_data_for_jasp(pre_df, post_df):\n",
    "    # Create participant IDs\n",
    "    participants = pd.DataFrame({\n",
    "        'participant_id': range(1, len(pre_df) + 1),\n",
    "        'age': pre_df['Age'],\n",
    "        'group': post_df['What model of communication did you prefer? '].map({\n",
    "            'Avatar based': 'avatar',\n",
    "            'Text/ Voice/ Simple Journaling': 'text'\n",
    "        })\n",
    "    })\n",
    "    \n",
    "    # Calculate scores\n",
    "    participants['pre_phq9'] = pre_df.apply(calculate_phq9_score, axis=1)\n",
    "    participants['post_phq9'] = post_df.apply(calculate_phq9_score, axis=1)\n",
    "    participants['pre_gad7'] = pre_df.apply(calculate_gad7_score, axis=1)\n",
    "    participants['post_gad7'] = post_df.apply(calculate_gad7_score, axis=1)\n",
    "    participants['sus_score'] = post_df.apply(calculate_sus_score, axis=1)\n",
    "    participants['social_connectedness'] = post_df.apply(calculate_social_connectedness, axis=1)\n",
    "    \n",
    "    return participants"
   ]
  },
  {
   "cell_type": "markdown",
   "id": "4da0cd1b-57e3-4ae6-a642-7212a531f907",
   "metadata": {},
   "source": [
    "# Long Format CSV Generation"
   ]
  },
  {
   "cell_type": "code",
   "execution_count": null,
   "id": "30103e38-abd1-401f-8b25-75d1806fdefa",
   "metadata": {},
   "outputs": [],
   "source": [
    "def create_long_format(wide_df):\n",
    "    # Create long format for repeated measures\n",
    "    long_df = pd.melt(wide_df,\n",
    "                      id_vars=['participant_id', 'age', 'group', 'sus_score', 'social_connectedness'],\n",
    "                      value_vars=['pre_phq9', 'post_phq9', 'pre_gad7', 'post_gad7'],\n",
    "                      var_name='measure_time',\n",
    "                      value_name='score')\n",
    "    \n",
    "    # Split measure_time into measure and time\n",
    "    long_df[['measure', 'time']] = long_df['measure_time'].str.split('_', expand=True)\n",
    "    long_df = long_df.drop('measure_time', axis=1)\n",
    "    \n",
    "    return long_df"
   ]
  },
  {
   "cell_type": "markdown",
   "id": "6c2696ff-d2e0-4c13-a81c-b915f0fab103",
   "metadata": {},
   "source": [
    "# Wide Format and Main Function to Orchestrate Everything!"
   ]
  },
  {
   "cell_type": "code",
   "execution_count": null,
   "id": "844e5714-36b3-49b4-a05d-bdcebffc64e0",
   "metadata": {},
   "outputs": [],
   "source": [
    "def main():\n",
    "    # Read the survey data\n",
    "    pre_survey = pd.read_csv('pre_survey_responses.csv')\n",
    "    post_survey = pd.read_csv('post_survey_responses.csv')\n",
    "    \n",
    "    # Prepare wide format data\n",
    "    wide_format = prepare_data_for_jasp(pre_survey, post_survey)\n",
    "    wide_format.to_csv('jasp_analysis_data_wide.csv', index=False)\n",
    "    \n",
    "    # Create and save long format data\n",
    "    long_format = create_long_format(wide_format)\n",
    "    long_format.to_csv('jasp_analysis_data_long.csv', index=False)\n",
    "    \n",
    "    print(\"Data processing complete. Files saved as 'jasp_analysis_data_wide.csv' and 'jasp_analysis_data_long.csv'\")\n",
    "\n",
    "if __name__ == \"__main__\":\n",
    "    main()"
   ]
  }
 ],
 "metadata": {
  "kernelspec": {
   "display_name": "Python 3 (ipykernel)",
   "language": "python",
   "name": "python3"
  },
  "language_info": {
   "codemirror_mode": {
    "name": "ipython",
    "version": 3
   },
   "file_extension": ".py",
   "mimetype": "text/x-python",
   "name": "python",
   "nbconvert_exporter": "python",
   "pygments_lexer": "ipython3",
   "version": "3.9.7"
  }
 },
 "nbformat": 4,
 "nbformat_minor": 5
}
